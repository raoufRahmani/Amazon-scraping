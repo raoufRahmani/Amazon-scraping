{
 "cells": [
  {
   "cell_type": "markdown",
   "id": "2be917a0",
   "metadata": {},
   "source": [
    "###  How to Use the Code to Scrape Amazon Product Data\n",
    "\n",
    "1. **Open [Amazon.com](https://www.amazon.com)**\n",
    "\n",
    "2. **Search for a product** (for example: *smartphones*, *AirPods*, *watches*, airfryers...)\n",
    "\n",
    "3. **Go to page 2** of the product results\n",
    "\n",
    "   * Example: If you search for *AirPods*, there will be multiple pages (1, 2, 3...) in the end of the page\n",
    "   * Copy the link from the address bar while you're on **page 2**\n",
    "   * The copied link will end with something like `sr_pg_2`\n",
    "\n",
    "5. **Paste the edited link into the input field** Enter the url\n",
    "\n",
    "6. **Enter the number of pages you want to scrape**\n",
    "\n",
    "   * It's recommended to enter a number between **2 and 7** pages  \n",
    "\n",
    "7. **Choose a name for your CSV file** when prompted\n",
    "\n",
    "   * The file will be created automatically in your working folder\n",
    "\n",
    "\n",
    "\n",
    "After that, your file will contain product titles, prices, and the date of extraction — ready to be cleaned and analyzed.\n"
   ]
  },
  {
   "cell_type": "markdown",
   "id": "61dbda99",
   "metadata": {},
   "source": []
  }
 ],
 "metadata": {
  "language_info": {
   "name": "python"
  }
 },
 "nbformat": 4,
 "nbformat_minor": 5
}
