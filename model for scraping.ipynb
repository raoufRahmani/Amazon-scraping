{
 "cells": [
  {
   "cell_type": "code",
   "execution_count": 2,
   "id": "ac7fb909",
   "metadata": {},
   "outputs": [],
   "source": [
    "import pandas as pd\n",
    "from bs4 import BeautifulSoup\n",
    "import requests\n",
    "import datetime\n",
    "import csv"
   ]
  },
  {
   "cell_type": "markdown",
   "id": "24c7ab8a",
   "metadata": {},
   "source": [
    "## Get the links off of a page of a product category"
   ]
  },
  {
   "cell_type": "markdown",
   "id": "1f45f999",
   "metadata": {},
   "source": [
    "In a page of a product category (for example smartphones, AirPods, T-shirts...), copy the link of the page into \"search_url_prefix\", and then the function will extract all the links of each product and store them in the list \"product\\_links\".\n"
   ]
  },
  {
   "cell_type": "code",
   "execution_count": 5,
   "id": "f65e772e",
   "metadata": {},
   "outputs": [
    {
     "name": "stdout",
     "output_type": "stream",
     "text": [
      "Scraping page 1: https://www.amazon.fr/s?k=laptops&__mk_fr_FR=%C3%85M%C3%85%C5%BD%C3%95%C3%91&crid=1MYLPFEZSUEND&sprefix=laptops%2Caps%2C190&ref=nb_sb_noss_1&page=1\n",
      "Scraping page 2: https://www.amazon.fr/s?k=laptops&__mk_fr_FR=%C3%85M%C3%85%C5%BD%C3%95%C3%91&crid=1MYLPFEZSUEND&sprefix=laptops%2Caps%2C190&ref=nb_sb_noss_1&page=2\n",
      "Scraping page 3: https://www.amazon.fr/s?k=laptops&__mk_fr_FR=%C3%85M%C3%85%C5%BD%C3%95%C3%91&crid=1MYLPFEZSUEND&sprefix=laptops%2Caps%2C190&ref=nb_sb_noss_1&page=3\n",
      "Scraping page 4: https://www.amazon.fr/s?k=laptops&__mk_fr_FR=%C3%85M%C3%85%C5%BD%C3%95%C3%91&crid=1MYLPFEZSUEND&sprefix=laptops%2Caps%2C190&ref=nb_sb_noss_1&page=4\n",
      "Scraping page 5: https://www.amazon.fr/s?k=laptops&__mk_fr_FR=%C3%85M%C3%85%C5%BD%C3%95%C3%91&crid=1MYLPFEZSUEND&sprefix=laptops%2Caps%2C190&ref=nb_sb_noss_1&page=5\n",
      "Scraping page 6: https://www.amazon.fr/s?k=laptops&__mk_fr_FR=%C3%85M%C3%85%C5%BD%C3%95%C3%91&crid=1MYLPFEZSUEND&sprefix=laptops%2Caps%2C190&ref=nb_sb_noss_1&page=6\n",
      "Scraping page 7: https://www.amazon.fr/s?k=laptops&__mk_fr_FR=%C3%85M%C3%85%C5%BD%C3%95%C3%91&crid=1MYLPFEZSUEND&sprefix=laptops%2Caps%2C190&ref=nb_sb_noss_1&page=7\n",
      "Found 306 product links in total.\n",
      "https://www.amazon.fr/ACEMAGIC-Ordinateur-Portable-Capacit%C3%A9-6000Mah/dp/B0DKN3V397/ref=sr_1_6\n",
      "https://www.amazon.fr/Lenovo-Ordinateur-Portable-Windows-fran%C3%A7ais/dp/B0CT92CRXD/ref=sr_1_7\n",
      "https://www.amazon.fr/Ordinateur-Portable-Bluetooth-Extension-Keyboard/dp/B0FBWLNXZW/ref=sr_1_8\n",
      "https://www.amazon.fr/Ordinateur-Portable-i3-1115G4-Mini-HDMI-Graphics/dp/B0F5QCNWHM/ref=sr_1_9\n",
      "https://www.amazon.fr/PINSTONE-Portable-Ordinateur-r%C3%A9tro%C3%A9clairage-Entreprises/dp/B0FDKHV9N4/ref=sr_1_10\n",
      "https://www.amazon.fr/Ordinateur-processeur-graphique-num%C3%A9rique-r%C3%A9tro%C3%A9clair%C3%A9/dp/B0F7WC7QRZ/ref=sr_1_11\n",
      "https://www.amazon.fr/Ordinateur-Dual-Core-Bluetooth-Ventilateur-Membrane/dp/B0D54CZXPJ/ref=sr_1_12\n",
      "https://www.amazon.fr/MSI-Modern-15-B7M-220FR-retro%C3%A9clair%C3%A9/dp/B09YXX31RC/ref=sr_1_13\n",
      "https://www.amazon.fr/Lenovo-IdeaPad-Slim-Chromebook-14M868/dp/B0D1CHFBYH/ref=sr_1_14\n",
      "https://www.amazon.fr/NOTODD-Ordinateur-Extension-1920x1200-Couverture-Rose/dp/B0D8YBGGG8/ref=sr_1_15\n"
     ]
    }
   ],
   "source": [
    "search_url = input(\"Enter the Amazon search URL: \").strip()\n",
    "base_url = \"https://www.amazon.fr\"\n",
    "\n",
    "# Step 1: Remove any existing \"&page=\" and everything after it\n",
    "if \"&page=\" in search_url:\n",
    "    search_url = search_url.split(\"&page=\")[0]\n",
    "\n",
    "# Step 2: Make sure the URL ends properly before appending page number\n",
    "if search_url.endswith(\"&\"):\n",
    "    search_url_prefix = search_url + \"page=\"\n",
    "else:\n",
    "    search_url_prefix = search_url + \"&page=\"\n",
    "headers = {\n",
    "    \"User-Agent\": \"Mozilla/5.0 (Windows NT 10.0; Win64; x64) AppleWebKit/537.36 (KHTML, like Gecko) Chrome/115.0.0.0 Safari/537.36\",\n",
    "    \"Accept-Language\": \"en-US,en;q=0.9\"\n",
    "}\n",
    "product_links = [] \n",
    "num_pages=int(input(\"Enter number of pages you want to scrap\"))\n",
    "for page_num in range(1, num_pages+1): \n",
    "    url = search_url_prefix + str(page_num)\n",
    "    print(f\"Scraping page {page_num}: {url}\") \n",
    "\n",
    "    response = requests.get(url, headers=headers)\n",
    "    soup = BeautifulSoup(response.content, 'html.parser') \n",
    "\n",
    "    products = soup.find_all(\"div\", {\"data-component-type\": \"s-search-result\"})\n",
    "\n",
    "    for product in products:\n",
    "        link_tag = product.find(\"a\", class_=\"a-link-normal s-no-outline\")\n",
    "        if link_tag and \"href\" in link_tag.attrs:\n",
    "            href = link_tag[\"href\"]\n",
    "\n",
    "            if \"/dp/\" in href:\n",
    "                clean_link = base_url + href.split(\"?\")[0]\n",
    "                product_links.append(clean_link)\n",
    "\n",
    "print(f\"Found {len(product_links)} product links in total.\")\n",
    "for link in product_links[:10]:\n",
    "    print(link) "
   ]
  },
  {
   "cell_type": "markdown",
   "id": "8c7925c9",
   "metadata": {},
   "source": [
    "## Extract the name, caracteristics and the price "
   ]
  },
  {
   "cell_type": "code",
   "execution_count": 6,
   "id": "b6679ab7",
   "metadata": {},
   "outputs": [],
   "source": [
    "file= input(\"Enter the name of a csv file to store the data\")\n",
    "file=file+'.csv'\n",
    "with open(file, 'w', newline='', encoding='UTF8') as f:\n",
    "    writer = csv.writer(f)\n",
    "    writer.writerow(['Title', 'Price','link', 'Date'])\n",
    "    \n",
    "for link in product_links:\n",
    "    page_prods = requests.get(link, headers=headers)\n",
    "    soup2_prods = BeautifulSoup(page_prods.content, 'html.parser')\n",
    "\n",
    "    # Get title safely\n",
    "    title_tag = soup2_prods.find(id=\"productTitle\")\n",
    "    title = title_tag.get_text(strip=True) if title_tag else \"No title found\"\n",
    "\n",
    "    # Get price safely\n",
    "    whole_tag = soup2_prods.find('span', class_='a-price-whole')\n",
    "    fraction_tag = soup2_prods.find('span', class_='a-price-fraction')\n",
    "\n",
    "    if whole_tag and fraction_tag:\n",
    "        price = whole_tag.get_text(strip=True) + ',' + fraction_tag.get_text(strip=True) + ' €'\n",
    "    else:\n",
    "        price = \"Price not found\"\n",
    "\n",
    "    \n",
    "\n",
    "    today = datetime.date.today()\n",
    "    data = [title, price,link, today]\n",
    "\n",
    "    # Append only the data, not the header every time\n",
    "    with open(file, 'a+', newline='', encoding='UTF8') as f:\n",
    "        writer = csv.writer(f)\n",
    "        writer.writerow(data)\n",
    "\n"
   ]
  },
  {
   "cell_type": "markdown",
   "id": "ae6e0d42",
   "metadata": {},
   "source": [
    "## Preview of the data"
   ]
  },
  {
   "cell_type": "code",
   "execution_count": 7,
   "id": "4ddaa809",
   "metadata": {},
   "outputs": [
    {
     "name": "stdout",
     "output_type": "stream",
     "text": [
      "                                               Title      Price  \\\n",
      "0  ACEMAGIC Ordinateur Portable 17,3 Pouces PC Po...  448,,97 €   \n",
      "1  Lenovo (FullHD 15,6 Zoll Ordinateur Portable (...  299,,00 €   \n",
      "2  Ordinateur Portable 11.6 pouces 6Go RAM 128Go ...  165,,99 €   \n",
      "3  Laptop 14.1 inches, Core i3-1115G4 CPU(up to 4...  269.,99 €   \n",
      "4  PINSTONE 15.6 inch Laptop - 16GB RAM 512GB SSD...  329.,99 €   \n",
      "5  Ordinateur portable 15,6 pouces, 24 Go RAM SSD...  299,,99 €   \n",
      "6  Ordinateur Portable 14,1\" Pouces laptop, 6 Go ...  184,,34 €   \n",
      "7  MSI Modern 15 B7M-220FR: AMD Ryzen 7 7730U - 1...  499.,00 €   \n",
      "8  Lenovo IdeaPad Slim 3 Chromebook 14M868 – 14 I...  279.,99 €   \n",
      "9  NOTODD Celeron N5095 14 Inch Laptop Computer 4...  229.,49 €   \n",
      "\n",
      "                                                link        Date  \n",
      "0  https://www.amazon.fr/ACEMAGIC-Ordinateur-Port...  2025-07-23  \n",
      "1  https://www.amazon.fr/Lenovo-Ordinateur-Portab...  2025-07-23  \n",
      "2  https://www.amazon.fr/Ordinateur-Portable-Blue...  2025-07-23  \n",
      "3  https://www.amazon.fr/Ordinateur-Portable-i3-1...  2025-07-23  \n",
      "4  https://www.amazon.fr/PINSTONE-Portable-Ordina...  2025-07-23  \n",
      "5  https://www.amazon.fr/Ordinateur-processeur-gr...  2025-07-23  \n",
      "6  https://www.amazon.fr/Ordinateur-Dual-Core-Blu...  2025-07-23  \n",
      "7  https://www.amazon.fr/MSI-Modern-15-B7M-220FR-...  2025-07-23  \n",
      "8  https://www.amazon.fr/Lenovo-IdeaPad-Slim-Chro...  2025-07-23  \n",
      "9  https://www.amazon.fr/NOTODD-Ordinateur-Extens...  2025-07-23  \n"
     ]
    }
   ],
   "source": [
    "df=pd.read_csv(file)\n",
    "print(df.head(10))"
   ]
  }
 ],
 "metadata": {
  "kernelspec": {
   "display_name": "Python 3",
   "language": "python",
   "name": "python3"
  },
  "language_info": {
   "codemirror_mode": {
    "name": "ipython",
    "version": 3
   },
   "file_extension": ".py",
   "mimetype": "text/x-python",
   "name": "python",
   "nbconvert_exporter": "python",
   "pygments_lexer": "ipython3",
   "version": "3.13.5"
  }
 },
 "nbformat": 4,
 "nbformat_minor": 5
}
