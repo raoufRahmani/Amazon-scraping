{
 "cells": [
  {
   "cell_type": "markdown",
   "id": "a9036f63",
   "metadata": {},
   "source": [
    "## This is an example where I applied the code for creating a csv file \"smartphones.csv\" that contains smartphones"
   ]
  },
  {
   "cell_type": "code",
   "execution_count": 7,
   "id": "61643aa1",
   "metadata": {},
   "outputs": [],
   "source": [
    "import pandas as pd\n",
    "from bs4 import BeautifulSoup\n",
    "import requests\n",
    "import csv"
   ]
  },
  {
   "cell_type": "markdown",
   "id": "acdaf05f",
   "metadata": {},
   "source": [
    "We will start by scraping one page and try to get the price and the product name and features related to a smartphone "
   ]
  },
  {
   "cell_type": "code",
   "execution_count": 4,
   "id": "18efdaff",
   "metadata": {},
   "outputs": [
    {
     "name": "stdout",
     "output_type": "stream",
     "text": [
      "Xiaomi poco c75-6 + 128gb Smartphone 6,88 Pouces 120Hz HD + écran medialek Helio g81 Triple caméra 50mp + 2mp，5000mah，Noir\n",
      "78,55\n"
     ]
    }
   ],
   "source": [
    "#Connect to website :\n",
    "url='https://www.amazon.fr/Xiaomi-Smartphone-Pouces-medialek-2mp%EF%BC%8C5000mah%EF%BC%8CNoir/dp/B0DL4BKSR6/ref=sr_1_6'\n",
    "headers = {\n",
    "    \"User-Agent\": \"Mozilla/5.0 (Windows NT 10.0; Win64; x64) AppleWebKit/537.36 (KHTML, like Gecko) Chrome/138.0.0.0 Safari/537.36\"\n",
    "}\n",
    "\n",
    "page=requests.get(url,headers=headers)\n",
    "\n",
    "soup1=BeautifulSoup(page.content, \"html.parser\")\n",
    "soup2=BeautifulSoup(soup1.prettify(),\"html.parser\")\n",
    "\n",
    "title=soup2.find(id=\"productTitle\").get_text(strip=True)\n",
    "print(title)\n",
    "\n",
    "#price\n",
    "'''The price in this page is divided into three span elements : for the whole price, for thr fraction, for the sign $, we want to get a single element like 19,99 $'''\n",
    "whole=soup2.find('span',class_='a-price-whole').get_text(strip=True)\n",
    "fraction=soup2.find('span',class_='a-price-fraction').get_text(strip=True)\n",
    "\n",
    "if whole and fraction  :\n",
    "    price= whole + fraction\n",
    "print(price)\n",
    "\n"
   ]
  },
  {
   "cell_type": "markdown",
   "id": "7277a99c",
   "metadata": {},
   "source": [
    "Now that we wrote the code to get the name and price of a product from its page, we will open a search for smartphones on Amazon, collect all the smartphone links, and then use a for loop to go through each link and apply the code to get the product name and price. We will also go from page 1, extract the links, then move to page 2, extract the links, and so on."
   ]
  },
  {
   "cell_type": "markdown",
   "id": "c5dab36f",
   "metadata": {},
   "source": [
    "# Get the products links"
   ]
  },
  {
   "cell_type": "code",
   "execution_count": 5,
   "id": "17658b5f",
   "metadata": {},
   "outputs": [
    {
     "name": "stdout",
     "output_type": "stream",
     "text": [
      "Scraping page 1: https://www.amazon.fr/s?k=smartphone&crid=1Y421Y0DYB75Q&qid=1752948329&sprefix=sma%2Caps%2C476&xpid=84qbmOTq1T7pJ&ref=sr_pg_1\n",
      "Scraping page 2: https://www.amazon.fr/s?k=smartphone&crid=1Y421Y0DYB75Q&qid=1752948329&sprefix=sma%2Caps%2C476&xpid=84qbmOTq1T7pJ&ref=sr_pg_2\n",
      "Scraping page 3: https://www.amazon.fr/s?k=smartphone&crid=1Y421Y0DYB75Q&qid=1752948329&sprefix=sma%2Caps%2C476&xpid=84qbmOTq1T7pJ&ref=sr_pg_3\n",
      "Scraping page 4: https://www.amazon.fr/s?k=smartphone&crid=1Y421Y0DYB75Q&qid=1752948329&sprefix=sma%2Caps%2C476&xpid=84qbmOTq1T7pJ&ref=sr_pg_4\n",
      "Scraping page 5: https://www.amazon.fr/s?k=smartphone&crid=1Y421Y0DYB75Q&qid=1752948329&sprefix=sma%2Caps%2C476&xpid=84qbmOTq1T7pJ&ref=sr_pg_5\n",
      "Found 240 product links in total.\n",
      "https://www.amazon.fr/Xiaomi-Smartphone-Pouces-medialek-2mp%EF%BC%8C5000mah%EF%BC%8CNoir/dp/B0DL4BKSR6/ref=sr_1_6\n",
      "https://www.amazon.fr/Samsung-Galaxy-64GB-Version-Internationale/dp/B0DDKLRFVV/ref=sr_1_7\n",
      "https://www.amazon.fr/Samsung-Galaxy-Smartphone-128GB-Negro/dp/B0DKTJ22QN/ref=sr_1_8\n",
      "https://www.amazon.fr/Xiaomi-Redmi-A5-Smartphone-5200mAh/dp/B0F3J3V6KX/ref=sr_1_9\n",
      "https://www.amazon.fr/Samsung-Smartphone-Android-Chargeur-d%C3%A9verrouill%C3%A9/dp/B0DNZHR5Z4/ref=sr_1_10\n",
      "https://www.amazon.fr/Xiaomi-Note-14-Smartphone-fonctionnalit%C3%A9s/dp/B0DRCX34LQ/ref=sr_1_11\n",
      "https://www.amazon.fr/Xiaomi-Redmi-14C-Version-Globale/dp/B0DH243L65/ref=sr_1_12\n",
      "https://www.amazon.fr/5G-smartphone-stockage-anthracite-dexploitation/dp/B0F1FRL5HX/ref=sr_1_13_mod_primary_new\n",
      "https://www.amazon.fr/SAMSUNG-Galaxy-A05s-Version-Internationale/dp/B0CQJY9JYT/ref=sr_1_14\n",
      "https://www.amazon.fr/OUKITEL-C1-Smartphone-Telephone-Fingerprint/dp/B0DXKLM3CJ/ref=sr_1_15\n"
     ]
    }
   ],
   "source": [
    "import requests\n",
    "from bs4 import BeautifulSoup\n",
    "\n",
    "headers = {\n",
    "    \"User-Agent\": \"Mozilla/5.0 (Windows NT 10.0; Win64; x64) AppleWebKit/537.36 (KHTML, like Gecko) Chrome/138.0.0.0 Safari/537.36\"\n",
    "}\n",
    "\n",
    "base_url = \"https://www.amazon.fr\"\n",
    "search_url_prefix = \"https://www.amazon.fr/s?k=smartphone&crid=1Y421Y0DYB75Q&qid=1752948329&sprefix=sma%2Caps%2C476&xpid=84qbmOTq1T7pJ&ref=sr_pg_\"\n",
    "\n",
    "product_links = [] \n",
    "\n",
    "for page_num in range(1, 6):  # Pages 1 to 5\n",
    "    url = search_url_prefix + str(page_num)\n",
    "    print(f\"Scraping page {page_num}: {url}\")\n",
    "\n",
    "    response = requests.get(url, headers=headers)\n",
    "    soup = BeautifulSoup(response.content, 'html.parser')\n",
    "\n",
    "    products = soup.find_all(\"div\", {\"data-component-type\": \"s-search-result\"})\n",
    "\n",
    "    for product in products:\n",
    "        link_tag = product.find(\"a\", class_=\"a-link-normal s-no-outline\")\n",
    "        if link_tag and \"href\" in link_tag.attrs:\n",
    "            href = link_tag[\"href\"]\n",
    "\n",
    "            if \"/dp/\" in href:\n",
    "                clean_link = base_url + href.split(\"?\")[0]\n",
    "                product_links.append(clean_link)\n",
    "\n",
    "print(f\"Found {len(product_links)} product links in total.\")\n",
    "for link in product_links[:10]:\n",
    "    print(link)\n",
    "\n",
    "\n"
   ]
  },
  {
   "cell_type": "markdown",
   "id": "8f8fa2e4",
   "metadata": {},
   "source": [
    "# For each link, scrap the price, model and caracteristics of the products"
   ]
  },
  {
   "cell_type": "code",
   "execution_count": 13,
   "id": "2b4cc3fe",
   "metadata": {},
   "outputs": [],
   "source": [
    "# Open file once, write header\n",
    "with open('smartphones.csv', 'w', newline='', encoding='UTF8') as f:\n",
    "    writer = csv.writer(f)\n",
    "    writer.writerow(['Title', 'Price in €', 'Date'])\n",
    "\n",
    "# Now loop over product links and append data\n",
    "for link in product_links:\n",
    "    page_prods = requests.get(link, headers=headers)\n",
    "    soup2_prods = BeautifulSoup(page_prods.content, 'html.parser')\n",
    "\n",
    "    title_tag = soup2_prods.find(id=\"productTitle\")\n",
    "    title = title_tag.get_text(strip=True) if title_tag else \"No title found\"\n",
    "\n",
    "    whole_tag = soup2_prods.find('span', class_='a-price-whole')\n",
    "    fraction_tag = soup2_prods.find('span', class_='a-price-fraction')\n",
    "\n",
    "    if whole_tag and fraction_tag:\n",
    "        price = whole_tag.get_text(strip=True) + ',' + fraction_tag.get_text(strip=True)\n",
    "    else:\n",
    "        price = \"Price not found\"\n",
    "\n",
    "    today = datetime.date.today()\n",
    "    data = [title, price, today]\n",
    "\n",
    "    # Append data inside the loop\n",
    "    with open('smartphones.csv', 'a', newline='', encoding='UTF8') as f:\n",
    "        writer = csv.writer(f)\n",
    "        writer.writerow(data)\n",
    "\n"
   ]
  }
 ],
 "metadata": {
  "kernelspec": {
   "display_name": "Python 3",
   "language": "python",
   "name": "python3"
  },
  "language_info": {
   "codemirror_mode": {
    "name": "ipython",
    "version": 3
   },
   "file_extension": ".py",
   "mimetype": "text/x-python",
   "name": "python",
   "nbconvert_exporter": "python",
   "pygments_lexer": "ipython3",
   "version": "3.13.5"
  }
 },
 "nbformat": 4,
 "nbformat_minor": 5
}
