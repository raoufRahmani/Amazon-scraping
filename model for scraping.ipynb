{
 "cells": [
  {
   "cell_type": "code",
   "execution_count": 7,
   "id": "ac7fb909",
   "metadata": {},
   "outputs": [],
   "source": [
    "import pandas as pd\n",
    "from bs4 import BeautifulSoup\n",
    "import requests\n",
    "import datetime\n",
    "import csv"
   ]
  },
  {
   "cell_type": "markdown",
   "id": "24c7ab8a",
   "metadata": {},
   "source": [
    "## Get the links off of a page of a product category"
   ]
  },
  {
   "cell_type": "markdown",
   "id": "1f45f999",
   "metadata": {},
   "source": [
    "In a page of a product category (for example smartphones, AirPods, T-shirts...), copy the link of the page into \"search_url_prefix\", and then the function will extract all the links of each product and store them in the list \"product\\_links\".\n"
   ]
  },
  {
   "cell_type": "code",
   "execution_count": 13,
   "id": "f65e772e",
   "metadata": {},
   "outputs": [
    {
     "name": "stdout",
     "output_type": "stream",
     "text": [
      "Scraping page 1: https://www.amazon.fr/s?i=computers&rh=n%3A429879031&s=popularity-rank&fs=true&page=2&xpid=bbklrfaWjxp1E&qid=1753084293&ref=sr_pg_1\n",
      "Scraping page 2: https://www.amazon.fr/s?i=computers&rh=n%3A429879031&s=popularity-rank&fs=true&page=2&xpid=bbklrfaWjxp1E&qid=1753084293&ref=sr_pg_2\n",
      "Scraping page 3: https://www.amazon.fr/s?i=computers&rh=n%3A429879031&s=popularity-rank&fs=true&page=2&xpid=bbklrfaWjxp1E&qid=1753084293&ref=sr_pg_3\n",
      "Scraping page 4: https://www.amazon.fr/s?i=computers&rh=n%3A429879031&s=popularity-rank&fs=true&page=2&xpid=bbklrfaWjxp1E&qid=1753084293&ref=sr_pg_4\n",
      "Scraping page 5: https://www.amazon.fr/s?i=computers&rh=n%3A429879031&s=popularity-rank&fs=true&page=2&xpid=bbklrfaWjxp1E&qid=1753084293&ref=sr_pg_5\n",
      "Scraping page 6: https://www.amazon.fr/s?i=computers&rh=n%3A429879031&s=popularity-rank&fs=true&page=2&xpid=bbklrfaWjxp1E&qid=1753084293&ref=sr_pg_6\n",
      "Found 144 product links in total.\n",
      "https://www.amazon.fr/-/en/Vivobook-S1504VA-NJ2580W-i5-1334U-Processor-Graphics/dp/B0DSGGR5CZ/ref=sr_1_25\n",
      "https://www.amazon.fr/-/en/Lenovo-IdeaPad-15IJL7-Graphics-Microsoft/dp/B0D9YV1R7B/ref=sr_1_26\n",
      "https://www.amazon.fr/-/en/15s-fq0003sf-Graphics-Microsoft-Personal-Included/dp/B0CY2T5TL7/ref=sr_1_27\n",
      "https://www.amazon.fr/-/en/Zenbook-UM3406HA-QD048W-Graphics-Windows-Keyboard/dp/B0DD4DQ7L1/ref=sr_1_28\n",
      "https://www.amazon.fr/-/en/Inspiron-Processor-Graphics-Windows-Keyboard/dp/B0CZC5NV1H/ref=sr_1_29\n",
      "https://www.amazon.fr/-/en/15-fd0004sf-Graphics-Display-Anti-Glare-Keyboard/dp/B0DVW2GBGY/ref=sr_1_30\n",
      "https://www.amazon.fr/-/en/Lenovo-IdeaPad-Slim-Chromebook-14M868/dp/B0C43WKJ6S/ref=sr_1_31\n",
      "https://www.amazon.fr/-/en/A315-24P-R6TR-Ryzen-7520U-Graphics-Keyboard/dp/B0B8YV6QG5/ref=sr_1_32\n",
      "https://www.amazon.fr/-/en/Lenovo-Laptop-Windows-Keyboard-7553/dp/B0CVS64KTN/ref=sr_1_33\n",
      "https://www.amazon.fr/-/en/Lenovo-IdeaPad-Slim-14ABR8-Graphics/dp/B0CGXX4DSH/ref=sr_1_34\n"
     ]
    }
   ],
   "source": [
    "base_url = \"https://www.amazon.fr\"\n",
    "search_url = input(\"Enter the url after following the user guide\")\n",
    "search_url_prefix= search_url[:-1]\n",
    "headers = {\n",
    "    \"User-Agent\": \"Mozilla/5.0 (Windows NT 10.0; Win64; x64) AppleWebKit/537.36 (KHTML, like Gecko) Chrome/115.0.0.0 Safari/537.36\",\n",
    "    \"Accept-Language\": \"en-US,en;q=0.9\"\n",
    "}\n",
    "product_links = [] \n",
    "num_pages=int(input(\"Enter number of pages you want to scrap\"))\n",
    "for page_num in range(1, num_pages+1):  # Pages 1 to 5\n",
    "    url = search_url_prefix + str(page_num)\n",
    "    print(f\"Scraping page {page_num}: {url}\")\n",
    "\n",
    "    response = requests.get(url, headers=headers)\n",
    "    soup = BeautifulSoup(response.content, 'html.parser')\n",
    "\n",
    "    products = soup.find_all(\"div\", {\"data-component-type\": \"s-search-result\"})\n",
    "\n",
    "    for product in products:\n",
    "        link_tag = product.find(\"a\", class_=\"a-link-normal s-no-outline\")\n",
    "        if link_tag and \"href\" in link_tag.attrs:\n",
    "            href = link_tag[\"href\"]\n",
    "\n",
    "            if \"/dp/\" in href:\n",
    "                clean_link = base_url + href.split(\"?\")[0]\n",
    "                product_links.append(clean_link)\n",
    "\n",
    "print(f\"Found {len(product_links)} product links in total.\")\n",
    "for link in product_links[:10]:\n",
    "    print(link)"
   ]
  },
  {
   "cell_type": "markdown",
   "id": "8c7925c9",
   "metadata": {},
   "source": [
    "## Extract the name, caracteristics and the price "
   ]
  },
  {
   "cell_type": "code",
   "execution_count": null,
   "id": "b6679ab7",
   "metadata": {},
   "outputs": [],
   "source": [
    "file= input(\"Enter the name of a csv file to store the data\")\n",
    "file=file+'.csv'\n",
    "with open(file, 'w', newline='', encoding='UTF8') as f:\n",
    "    writer = csv.writer(f)\n",
    "    writer.writerow(['Title', 'Price', 'Date'])\n",
    "    \n",
    "for link in product_links:\n",
    "    page_prods = requests.get(link, headers=headers)\n",
    "    soup2_prods = BeautifulSoup(page_prods.content, 'html.parser')\n",
    "\n",
    "    # Get title safely\n",
    "    title_tag = soup2_prods.find(id=\"productTitle\")\n",
    "    title = title_tag.get_text(strip=True) if title_tag else \"No title found\"\n",
    "\n",
    "    # Get price safely\n",
    "    whole_tag = soup2_prods.find('span', class_='a-price-whole')\n",
    "    fraction_tag = soup2_prods.find('span', class_='a-price-fraction')\n",
    "\n",
    "    if whole_tag and fraction_tag:\n",
    "        price = whole_tag.get_text(strip=True) + ',' + fraction_tag.get_text(strip=True) + ' €'\n",
    "    else:\n",
    "        price = \"Price not found\"\n",
    "\n",
    "    today = datetime.date.today()\n",
    "    data = [title, price, today]\n",
    "\n",
    "    # Append only the data, not the header every time\n",
    "    with open(file, 'a+', newline='', encoding='UTF8') as f:\n",
    "        writer = csv.writer(f)\n",
    "        writer.writerow(data)\n",
    "\n"
   ]
  },
  {
   "cell_type": "markdown",
   "id": "ae6e0d42",
   "metadata": {},
   "source": [
    "## Preview of the data"
   ]
  },
  {
   "cell_type": "code",
   "execution_count": 15,
   "id": "4ddaa809",
   "metadata": {},
   "outputs": [
    {
     "name": "stdout",
     "output_type": "stream",
     "text": [
      "                                               Title   Price in €        Date\n",
      "0  ASUS Vivobook 15 S1504VA-NJ2580W 15.6 Inch FHD...    599.,99 €  2025-07-21\n",
      "1  Lenovo IdeaPad 1 15IJL7 – 15.6 Inch FHD Laptop...    199.,99 €  2025-07-21\n",
      "2  HP 15s-fq0003sf 15.6 inch FHD Laptop (Intel Ce...    239.,00 €  2025-07-21\n",
      "3  ASUS Zenbook 14 UM3406HA-QD048W OLED 14 WUXGA ...  1,299.,99 €  2025-07-21\n",
      "4  Dell Inspiron 15 3535 Laptop 15.6 Inches FHD (...    499.,00 €  2025-07-21\n",
      "5  HP Laptop 15-fd0004sf, Laptop, Intel Core i3 N...    379.,00 €  2025-07-21\n",
      "6  Lenovo IdeaPad Slim 3 Chromebook 14M868 – 14 I...    249.,99 €  2025-07-21\n",
      "7  Acer Aspire 3 A315-24P-R6TR, 15.6 Inch Full HD...    479.,00 €  2025-07-21\n",
      "8  Lenovo (17.3 Zoll IPS FHD Laptop (Intel Core U...    499.,00 €  2025-07-21\n",
      "9  Lenovo IdeaPad Slim 5 14ABR8 – 14 Inch WUXGA O...    629.,99 €  2025-07-21\n"
     ]
    }
   ],
   "source": [
    "df=pd.read_csv(file)\n",
    "print(df.head(10))"
   ]
  }
 ],
 "metadata": {
  "kernelspec": {
   "display_name": "Python 3",
   "language": "python",
   "name": "python3"
  },
  "language_info": {
   "codemirror_mode": {
    "name": "ipython",
    "version": 3
   },
   "file_extension": ".py",
   "mimetype": "text/x-python",
   "name": "python",
   "nbconvert_exporter": "python",
   "pygments_lexer": "ipython3",
   "version": "3.13.5"
  }
 },
 "nbformat": 4,
 "nbformat_minor": 5
}
